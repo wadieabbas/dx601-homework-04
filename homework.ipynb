{
 "cells": [
  {
   "cell_type": "markdown",
   "metadata": {
    "id": "QOUYaLGHhOgH"
   },
   "source": [
    "# DX 601 Week 4 Homework"
   ]
  },
  {
   "cell_type": "markdown",
   "metadata": {
    "id": "_NYSQfpU6p9u"
   },
   "source": [
    "## Introduction\n",
    "\n",
    "In this homework, you will practice linear regression and working with random variables.\n",
    "The data sets of this homework are small, so your code should run in an instant, but you will be able to apply the same techniques to larger data sets.\n",
    "\n",
    "You may find it helpful to refer to these GitHub repositories of Jupyter notebooks for sample code.\n",
    "\n",
    "* https://github.com/bu-cds-omds/dx500-examples\n",
    "* https://github.com/bu-cds-omds/dx601-examples\n",
    "* https://github.com/bu-cds-omds/dx602-examples\n",
    "\n",
    "Any calculations demonstrated in code examples or videos may be found in these notebooks, and you are allowed to copy this example code in your homework answers."
   ]
  },
  {
   "cell_type": "markdown",
   "metadata": {
    "id": "GH7dFzB97Wlh"
   },
   "source": [
    "## Instructions\n",
    "\n",
    "You should replace every instance of \"...\" below.\n",
    "These are where you are expected to write code to answer each problem.\n",
    "\n",
    "After some of the problems, there are extra code cells that will test functions that you wrote so you can quickly see how they run on an example.\n",
    "If your code works on these examples, it is more likely to be correct.\n",
    "However, the autograder will test different examples, so working correctly on these examples does not guarantee full credit for the problem.\n",
    "You may change the example inputs to further test your functions on your own.\n",
    "You may also add your own example inputs for problems where we did not provide any.\n",
    "\n",
    "Be sure to run each code block after you edit it to make sure it runs as expected.\n",
    "When you are done, we strongly recommend you run all the code from scratch (Runtime menu -> Restart and Run all) to make sure your current code works for all problems.\n",
    "\n",
    "If your code raises an exception when run from scratch, it will  interfere with the auto-grader process causing you to lose some or all points for this homework.\n",
    "Please ask for help in YellowDig or schedule an appointment with a learning facilitator if you get stuck.\n"
   ]
  },
  {
   "cell_type": "markdown",
   "metadata": {
    "id": "Ze7ev3s6Bu44"
   },
   "source": [
    "## Problems"
   ]
  },
  {
   "cell_type": "markdown",
   "metadata": {
    "id": "vf-VY5qsmS7n"
   },
   "source": [
    "## Shared Imports\n",
    "\n",
    "Do not install or use any additional modules.\n",
    "Installing additional modules may result in an autograder failure resulting in zero points for some or all problems."
   ]
  },
  {
   "cell_type": "code",
   "execution_count": 193,
   "metadata": {
    "id": "RWYk7xICmOGe"
   },
   "outputs": [],
   "source": [
    "import math\n",
    "import random"
   ]
  },
  {
   "cell_type": "code",
   "execution_count": 192,
   "metadata": {
    "id": "RJSJeBTwCIUS"
   },
   "outputs": [],
   "source": [
    "import matplotlib.pyplot as plt\n",
    "import numpy as np\n",
    "import pandas as pd\n",
    "from sklearn.linear_model import LinearRegression"
   ]
  },
  {
   "cell_type": "markdown",
   "metadata": {
    "id": "UIRa5mxfB3FG"
   },
   "source": [
    "### Shared Data\n",
    "\n",
    "Many of the problems will use this mango data set.\n",
    "This data set is small and your code should run instantly with it, but you will be able to use the same code and techniques with larger data sets."
   ]
  },
  {
   "cell_type": "code",
   "execution_count": 44,
   "metadata": {
    "id": "PiW8n851CKo8"
   },
   "outputs": [],
   "source": [
    "mango_data = pd.read_csv(\"mango-tiny.tsv\", sep=\"\\t\")"
   ]
  },
  {
   "cell_type": "code",
   "execution_count": 45,
   "metadata": {
    "colab": {
     "base_uri": "https://localhost:8080/",
     "height": 317
    },
    "id": "MrVaT2kv41QQ",
    "outputId": "828770a9-6f46-422e-b9ac-d01f1dbd5fb0"
   },
   "outputs": [
    {
     "data": {
      "text/html": [
       "<div>\n",
       "<style scoped>\n",
       "    .dataframe tbody tr th:only-of-type {\n",
       "        vertical-align: middle;\n",
       "    }\n",
       "\n",
       "    .dataframe tbody tr th {\n",
       "        vertical-align: top;\n",
       "    }\n",
       "\n",
       "    .dataframe thead th {\n",
       "        text-align: right;\n",
       "    }\n",
       "</style>\n",
       "<table border=\"1\" class=\"dataframe\">\n",
       "  <thead>\n",
       "    <tr style=\"text-align: right;\">\n",
       "      <th></th>\n",
       "      <th>green_rating</th>\n",
       "      <th>yellow_rating</th>\n",
       "      <th>softness</th>\n",
       "      <th>wrinkles</th>\n",
       "      <th>estimated_flavor</th>\n",
       "      <th>estimated_sweetness</th>\n",
       "      <th>rated_flavor</th>\n",
       "    </tr>\n",
       "  </thead>\n",
       "  <tbody>\n",
       "    <tr>\n",
       "      <th>0</th>\n",
       "      <td>1</td>\n",
       "      <td>5</td>\n",
       "      <td>4</td>\n",
       "      <td>0</td>\n",
       "      <td>4</td>\n",
       "      <td>4</td>\n",
       "      <td>5</td>\n",
       "    </tr>\n",
       "    <tr>\n",
       "      <th>1</th>\n",
       "      <td>1</td>\n",
       "      <td>5</td>\n",
       "      <td>5</td>\n",
       "      <td>1</td>\n",
       "      <td>5</td>\n",
       "      <td>5</td>\n",
       "      <td>1</td>\n",
       "    </tr>\n",
       "    <tr>\n",
       "      <th>2</th>\n",
       "      <td>2</td>\n",
       "      <td>4</td>\n",
       "      <td>3</td>\n",
       "      <td>1</td>\n",
       "      <td>3</td>\n",
       "      <td>3</td>\n",
       "      <td>3</td>\n",
       "    </tr>\n",
       "    <tr>\n",
       "      <th>3</th>\n",
       "      <td>3</td>\n",
       "      <td>3</td>\n",
       "      <td>2</td>\n",
       "      <td>0</td>\n",
       "      <td>2</td>\n",
       "      <td>1</td>\n",
       "      <td>2</td>\n",
       "    </tr>\n",
       "    <tr>\n",
       "      <th>4</th>\n",
       "      <td>5</td>\n",
       "      <td>1</td>\n",
       "      <td>1</td>\n",
       "      <td>1</td>\n",
       "      <td>1</td>\n",
       "      <td>1</td>\n",
       "      <td>1</td>\n",
       "    </tr>\n",
       "    <tr>\n",
       "      <th>5</th>\n",
       "      <td>4</td>\n",
       "      <td>2</td>\n",
       "      <td>1</td>\n",
       "      <td>1</td>\n",
       "      <td>1</td>\n",
       "      <td>1</td>\n",
       "      <td>1</td>\n",
       "    </tr>\n",
       "    <tr>\n",
       "      <th>6</th>\n",
       "      <td>5</td>\n",
       "      <td>1</td>\n",
       "      <td>1</td>\n",
       "      <td>1</td>\n",
       "      <td>2</td>\n",
       "      <td>1</td>\n",
       "      <td>1</td>\n",
       "    </tr>\n",
       "    <tr>\n",
       "      <th>7</th>\n",
       "      <td>3</td>\n",
       "      <td>3</td>\n",
       "      <td>2</td>\n",
       "      <td>1</td>\n",
       "      <td>2</td>\n",
       "      <td>2</td>\n",
       "      <td>2</td>\n",
       "    </tr>\n",
       "  </tbody>\n",
       "</table>\n",
       "</div>"
      ],
      "text/plain": [
       "   green_rating  yellow_rating  softness  wrinkles  estimated_flavor  \\\n",
       "0             1              5         4         0                 4   \n",
       "1             1              5         5         1                 5   \n",
       "2             2              4         3         1                 3   \n",
       "3             3              3         2         0                 2   \n",
       "4             5              1         1         1                 1   \n",
       "5             4              2         1         1                 1   \n",
       "6             5              1         1         1                 2   \n",
       "7             3              3         2         1                 2   \n",
       "\n",
       "   estimated_sweetness  rated_flavor  \n",
       "0                    4             5  \n",
       "1                    5             1  \n",
       "2                    3             3  \n",
       "3                    1             2  \n",
       "4                    1             1  \n",
       "5                    1             1  \n",
       "6                    1             1  \n",
       "7                    2             2  "
      ]
     },
     "execution_count": 45,
     "metadata": {},
     "output_type": "execute_result"
    }
   ],
   "source": [
    "mango_data"
   ]
  },
  {
   "cell_type": "markdown",
   "metadata": {
    "id": "Poy2o9ST1EvL"
   },
   "source": [
    "### Problem 1\n",
    "\n",
    "Set `p1` to the number of parameters in a linear model trained on the mango data set that predicts rated flavor from the other columns."
   ]
  },
  {
   "cell_type": "code",
   "execution_count": 230,
   "metadata": {
    "id": "nhdirreg1pyy"
   },
   "outputs": [],
   "source": [
    "# YOUR CHANGES HERE\n",
    "\n",
    "\n",
    "p1 = mango_data.drop('rated_flavor', axis=1).shape[1] + 1"
   ]
  },
  {
   "cell_type": "code",
   "execution_count": 231,
   "metadata": {},
   "outputs": [
    {
     "data": {
      "text/plain": [
       "7"
      ]
     },
     "execution_count": 231,
     "metadata": {},
     "output_type": "execute_result"
    }
   ],
   "source": [
    "p1"
   ]
  },
  {
   "cell_type": "markdown",
   "metadata": {
    "id": "g06sNjVm2R_J"
   },
   "source": [
    "### Problem 2\n",
    "\n",
    "Set `p2` to $\\lim_{x \\rightarrow 2} \\frac{(x^2-4)}{x+2}$."
   ]
  },
  {
   "cell_type": "markdown",
   "metadata": {},
   "source": [
    "Hint: Try to simplify that fraction assuming $x \\neq 2$."
   ]
  },
  {
   "cell_type": "code",
   "execution_count": 106,
   "metadata": {
    "id": "OpJpSZXW2RDO"
   },
   "outputs": [],
   "source": [
    "# YOUR CHANGES HERE\n",
    "\n",
    "x = 2\n",
    "p2 = (x**2 - 4)/(x+2)"
   ]
  },
  {
   "cell_type": "markdown",
   "metadata": {},
   "source": [
    "Check the value of `p2`."
   ]
  },
  {
   "cell_type": "code",
   "execution_count": 107,
   "metadata": {},
   "outputs": [
    {
     "data": {
      "text/plain": [
       "0.0"
      ]
     },
     "execution_count": 107,
     "metadata": {},
     "output_type": "execute_result"
    }
   ],
   "source": [
    "p2"
   ]
  },
  {
   "cell_type": "markdown",
   "metadata": {
    "id": "zb6e3gQs4cgL"
   },
   "source": [
    "### Problem 3\n",
    "\n",
    "What is the derivative of $x^2 - 3x + 9$ at $x=2$?"
   ]
  },
  {
   "cell_type": "code",
   "execution_count": 113,
   "metadata": {},
   "outputs": [
    {
     "data": {
      "image/png": "[encoded data removed]",
      "text/plain": [
       "<Figure size 640x480 with 1 Axes>"
      ]
     },
     "metadata": {},
     "output_type": "display_data"
    }
   ],
   "source": [
    "# DO NOT CHANGE\n",
    "\n",
    "xs = np.linspace(-5, 5)\n",
    "plt.plot(xs, xs * xs - 3 * xs + 9)\n",
    "plt.ylim(0);"
   ]
  },
  {
   "cell_type": "code",
   "execution_count": 116,
   "metadata": {
    "id": "vH-PYxIl2zUn"
   },
   "outputs": [],
   "source": [
    "# YOUR CHANGES HERE\n",
    "\n",
    "x = 2 \n",
    "\n",
    "def derivative_p3(x):\n",
    "    return 2*x-3\n",
    "\n",
    "p3 = derivative_p3(x)"
   ]
  },
  {
   "cell_type": "markdown",
   "metadata": {},
   "source": [
    "Check the value of `p3`."
   ]
  },
  {
   "cell_type": "code",
   "execution_count": 117,
   "metadata": {},
   "outputs": [
    {
     "data": {
      "text/plain": [
       "1"
      ]
     },
     "execution_count": 117,
     "metadata": {},
     "output_type": "execute_result"
    }
   ],
   "source": [
    "p3"
   ]
  },
  {
   "cell_type": "markdown",
   "metadata": {
    "id": "QKUyLpq23Jeg"
   },
   "source": [
    "### Problem 4\n",
    "\n",
    "Set `p4` to the mean row of the mango data set.\n",
    "That is, `p4` should be a single row of data with the same columns, where each value is the mean of the corresponding column in the mango data set."
   ]
  },
  {
   "cell_type": "code",
   "execution_count": 141,
   "metadata": {
    "id": "aNiGYYTg3sbv"
   },
   "outputs": [],
   "source": [
    "# YOUR CHANGES HERE\n",
    "\n",
    "p4 = mango_data.mean().to_frame().T"
   ]
  },
  {
   "cell_type": "code",
   "execution_count": 142,
   "metadata": {},
   "outputs": [
    {
     "data": {
      "text/html": [
       "<div>\n",
       "<style scoped>\n",
       "    .dataframe tbody tr th:only-of-type {\n",
       "        vertical-align: middle;\n",
       "    }\n",
       "\n",
       "    .dataframe tbody tr th {\n",
       "        vertical-align: top;\n",
       "    }\n",
       "\n",
       "    .dataframe thead th {\n",
       "        text-align: right;\n",
       "    }\n",
       "</style>\n",
       "<table border=\"1\" class=\"dataframe\">\n",
       "  <thead>\n",
       "    <tr style=\"text-align: right;\">\n",
       "      <th></th>\n",
       "      <th>green_rating</th>\n",
       "      <th>yellow_rating</th>\n",
       "      <th>softness</th>\n",
       "      <th>wrinkles</th>\n",
       "      <th>estimated_flavor</th>\n",
       "      <th>estimated_sweetness</th>\n",
       "      <th>rated_flavor</th>\n",
       "    </tr>\n",
       "  </thead>\n",
       "  <tbody>\n",
       "    <tr>\n",
       "      <th>0</th>\n",
       "      <td>3.0</td>\n",
       "      <td>3.0</td>\n",
       "      <td>2.375</td>\n",
       "      <td>0.75</td>\n",
       "      <td>2.5</td>\n",
       "      <td>2.25</td>\n",
       "      <td>2.0</td>\n",
       "    </tr>\n",
       "  </tbody>\n",
       "</table>\n",
       "</div>"
      ],
      "text/plain": [
       "   green_rating  yellow_rating  softness  wrinkles  estimated_flavor  \\\n",
       "0           3.0            3.0     2.375      0.75               2.5   \n",
       "\n",
       "   estimated_sweetness  rated_flavor  \n",
       "0                 2.25           2.0  "
      ]
     },
     "execution_count": 142,
     "metadata": {},
     "output_type": "execute_result"
    }
   ],
   "source": [
    "p4"
   ]
  },
  {
   "cell_type": "markdown",
   "metadata": {
    "id": "_4ZYOT4DB0L3"
   },
   "source": [
    "### Problem 5\n",
    "\n",
    "Set `p5` to be the median of the estimated flavor column in the mango data set.\n",
    "\n",
    "You may find NumPy's [numpy.median](https://numpy.org/doc/stable/reference/generated/numpy.median.html) function or pandas' [pandas.DataFrame.median](https://pandas.pydata.org/pandas-docs/stable/reference/api/pandas.DataFrame.median.html) method helpful."
   ]
  },
  {
   "cell_type": "code",
   "execution_count": 143,
   "metadata": {
    "id": "qLQyPsen5ExP"
   },
   "outputs": [],
   "source": [
    "# YOUR CHANGES HERE\n",
    "\n",
    "p5 = mango_data[\"estimated_flavor\"].median()"
   ]
  },
  {
   "cell_type": "markdown",
   "metadata": {},
   "source": [
    "Check the value of `p5`."
   ]
  },
  {
   "cell_type": "code",
   "execution_count": 145,
   "metadata": {},
   "outputs": [
    {
     "data": {
      "text/plain": [
       "np.float64(2.0)"
      ]
     },
     "execution_count": 145,
     "metadata": {},
     "output_type": "execute_result"
    }
   ],
   "source": [
    "p5"
   ]
  },
  {
   "cell_type": "markdown",
   "metadata": {
    "id": "4Sona6mNZDRD"
   },
   "source": [
    "### Problem 6\n",
    "\n",
    "How many local extrema does the function $x^3 - 3x$ have?"
   ]
  },
  {
   "cell_type": "code",
   "execution_count": 146,
   "metadata": {},
   "outputs": [
    {
     "data": {
      "image/png": "[encoded data removed]",
      "text/plain": [
       "<Figure size 640x480 with 1 Axes>"
      ]
     },
     "metadata": {},
     "output_type": "display_data"
    }
   ],
   "source": [
    "# @title Plot of $x^3 - 3x$\n",
    "\n",
    "xs = np.linspace(-5,5)\n",
    "plt.plot(xs, xs**3 - 3 * xs);"
   ]
  },
  {
   "cell_type": "code",
   "execution_count": 147,
   "metadata": {
    "id": "8Ply7kvsZ9AB"
   },
   "outputs": [],
   "source": [
    "# YOUR CHANGES HERE\n",
    "\n",
    "p6 = 2"
   ]
  },
  {
   "cell_type": "markdown",
   "metadata": {},
   "source": [
    "Check the value of `p6`."
   ]
  },
  {
   "cell_type": "code",
   "execution_count": 148,
   "metadata": {},
   "outputs": [
    {
     "data": {
      "text/plain": [
       "2"
      ]
     },
     "execution_count": 148,
     "metadata": {},
     "output_type": "execute_result"
    }
   ],
   "source": [
    "p6"
   ]
  },
  {
   "cell_type": "markdown",
   "metadata": {
    "id": "2sm6qPi7aKWO"
   },
   "source": [
    "### Problem 7\n",
    "\n",
    "Set `p7` to the number of following functions that are convex."
   ]
  },
  {
   "cell_type": "code",
   "execution_count": 151,
   "metadata": {},
   "outputs": [
    {
     "data": {
      "image/png": "[encoded data removed]",
      "text/plain": [
       "<Figure size 1000x400 with 10 Axes>"
      ]
     },
     "metadata": {},
     "output_type": "display_data"
    }
   ],
   "source": [
    "# @ title Functions to Check for Convexity\n",
    "\n",
    "xs = np.linspace(-100, 100)\n",
    "\n",
    "plt.figure(figsize=(10, 4))\n",
    "plt.subplot(2, 5, 1)\n",
    "plt.plot(xs, xs**2)\n",
    "plt.title(\"$x^2$\")\n",
    "\n",
    "plt.subplot(2, 5, 2)\n",
    "plt.plot(xs, -xs**2)\n",
    "plt.title(\"$-x^2$\")\n",
    "\n",
    "plt.subplot(2, 5, 3)\n",
    "plt.plot(xs, xs**3)\n",
    "plt.title(\"$x^3$\")\n",
    "\n",
    "plt.subplot(2, 5, 4)\n",
    "plt.plot(xs, xs**4)\n",
    "plt.title(\"$x^4$\")\n",
    "\n",
    "plt.subplot(2, 5, 5)\n",
    "plt.plot(xs, xs*xs - 9 * xs)\n",
    "plt.title(\"$x^2 - 9x$\")\n",
    "\n",
    "plt.subplot(2, 5, 6)\n",
    "plt.plot(xs, xs)\n",
    "plt.title(\"$x$\")\n",
    "\n",
    "plt.subplot(2, 5, 7)\n",
    "plt.plot(xs, -xs**4+1000 * xs**2)\n",
    "plt.title(\"$1000x^2 - x^4$\")\n",
    "\n",
    "plt.subplot(2, 5, 8)\n",
    "plt.plot([x for x in xs if x > 0], [1 / x for x in xs if x > 0], color=\"C0\")\n",
    "plt.plot([x for x in xs if x < 0], [1 / x for x in xs if x < 0], color=\"C0\")\n",
    "plt.title(\"$1/x$\")\n",
    "\n",
    "plt.subplot(2, 5, 9)\n",
    "plt.plot(xs, -xs)\n",
    "plt.title(\"$-x$\")\n",
    "\n",
    "plt.subplot(2, 5, 10)\n",
    "plt.plot(xs, 0.001 * xs**2)\n",
    "plt.title(\"$0.001 x^2$\")\n",
    "\n",
    "plt.subplots_adjust(hspace=0.4, wspace=0.4);"
   ]
  },
  {
   "cell_type": "markdown",
   "metadata": {},
   "source": [
    "Hint: Convexity is a global property of functions.\n",
    "You may want to change the range of x values to see the big picture."
   ]
  },
  {
   "cell_type": "code",
   "execution_count": 232,
   "metadata": {
    "id": "0R8DkzA7bEJQ"
   },
   "outputs": [],
   "source": [
    "# YOUR CHANGES HERE\n",
    "\n",
    "p7 = 6"
   ]
  },
  {
   "cell_type": "markdown",
   "metadata": {},
   "source": [
    "Check the value of `p7`."
   ]
  },
  {
   "cell_type": "code",
   "execution_count": 233,
   "metadata": {},
   "outputs": [
    {
     "data": {
      "text/plain": [
       "6"
      ]
     },
     "execution_count": 233,
     "metadata": {},
     "output_type": "execute_result"
    }
   ],
   "source": [
    "p7"
   ]
  },
  {
   "cell_type": "markdown",
   "metadata": {},
   "source": [
    "### Problem 8\n",
    "\n",
    "Set `p8` to $\\lim_{x \\to 2^-} \\frac{|x-2|}{x-2}$."
   ]
  },
  {
   "cell_type": "code",
   "execution_count": 234,
   "metadata": {},
   "outputs": [],
   "source": [
    "# YOUR CHANGES HERE\n",
    "\n",
    "p8 = -1"
   ]
  },
  {
   "cell_type": "markdown",
   "metadata": {},
   "source": [
    "Check the value of `p8`."
   ]
  },
  {
   "cell_type": "code",
   "execution_count": 235,
   "metadata": {},
   "outputs": [
    {
     "data": {
      "text/plain": [
       "-1"
      ]
     },
     "execution_count": 235,
     "metadata": {},
     "output_type": "execute_result"
    }
   ],
   "source": [
    "p8"
   ]
  },
  {
   "cell_type": "markdown",
   "metadata": {
    "id": "8Txa1RCXctp8"
   },
   "source": [
    "### Problem 9\n",
    "\n",
    "Write a function `p9` returning the derivative of $x^5$."
   ]
  },
  {
   "cell_type": "code",
   "execution_count": 162,
   "metadata": {
    "id": "O-UvSyhKgofV"
   },
   "outputs": [],
   "source": [
    "# YOUR CHANGES HERE\n",
    "\n",
    "def p9(x):\n",
    "    return 5 * x**4"
   ]
  },
  {
   "cell_type": "markdown",
   "metadata": {},
   "source": [
    "Check the output of `p9`."
   ]
  },
  {
   "cell_type": "code",
   "execution_count": 163,
   "metadata": {},
   "outputs": [
    {
     "data": {
      "text/plain": [
       "0"
      ]
     },
     "execution_count": 163,
     "metadata": {},
     "output_type": "execute_result"
    }
   ],
   "source": [
    "p9(0)"
   ]
  },
  {
   "cell_type": "code",
   "execution_count": 164,
   "metadata": {},
   "outputs": [
    {
     "data": {
      "text/plain": [
       "5"
      ]
     },
     "execution_count": 164,
     "metadata": {},
     "output_type": "execute_result"
    }
   ],
   "source": [
    "p9(1)"
   ]
  },
  {
   "cell_type": "markdown",
   "metadata": {
    "id": "5HznIgaTglgf"
   },
   "source": [
    "### Problem 10\n",
    "\n",
    "Write a function `p10` returning the derivative of $4 x^2$."
   ]
  },
  {
   "cell_type": "code",
   "execution_count": 165,
   "metadata": {
    "id": "8BjrglyMiE3f"
   },
   "outputs": [],
   "source": [
    "# YOUR CHANGES HERE\n",
    "\n",
    "def p10(x):\n",
    "    return 4*2*x"
   ]
  },
  {
   "cell_type": "markdown",
   "metadata": {},
   "source": [
    "Check the output of `p10`."
   ]
  },
  {
   "cell_type": "code",
   "execution_count": 166,
   "metadata": {},
   "outputs": [
    {
     "data": {
      "text/plain": [
       "0"
      ]
     },
     "execution_count": 166,
     "metadata": {},
     "output_type": "execute_result"
    }
   ],
   "source": [
    "p10(0)"
   ]
  },
  {
   "cell_type": "code",
   "execution_count": 167,
   "metadata": {},
   "outputs": [
    {
     "data": {
      "text/plain": [
       "8"
      ]
     },
     "execution_count": 167,
     "metadata": {},
     "output_type": "execute_result"
    }
   ],
   "source": [
    "p10(1)"
   ]
  },
  {
   "cell_type": "markdown",
   "metadata": {
    "id": "fs7pnCyl20n3"
   },
   "source": [
    "### Problem 11\n",
    "\n",
    "Write a function `p11` returning the derivative of $3 e^x + 5 x^5$."
   ]
  },
  {
   "cell_type": "code",
   "execution_count": 176,
   "metadata": {
    "id": "1gp6Tcbh3IZT"
   },
   "outputs": [],
   "source": [
    "# YOUR CHANGES HERE\n",
    "\n",
    "def p11(x):\n",
    "    return (3 * math.e**(x)) + (25 * x**4)"
   ]
  },
  {
   "cell_type": "markdown",
   "metadata": {},
   "source": [
    "Check the output of `p11`."
   ]
  },
  {
   "cell_type": "code",
   "execution_count": 177,
   "metadata": {},
   "outputs": [
    {
     "data": {
      "text/plain": [
       "3.0"
      ]
     },
     "execution_count": 177,
     "metadata": {},
     "output_type": "execute_result"
    }
   ],
   "source": [
    "p11(0)"
   ]
  },
  {
   "cell_type": "code",
   "execution_count": 178,
   "metadata": {},
   "outputs": [
    {
     "data": {
      "text/plain": [
       "33.15484548537714"
      ]
     },
     "execution_count": 178,
     "metadata": {},
     "output_type": "execute_result"
    }
   ],
   "source": [
    "p11(1)"
   ]
  },
  {
   "cell_type": "markdown",
   "metadata": {
    "id": "kBKzQOSRimNE"
   },
   "source": [
    "### Problem 12\n",
    "\n",
    "Write a function `p12` returning the derivative of $\\log_3(x)$.\n",
    "\n",
    "You could try to derive this using the chain rule, but feel free to look up the rule for logarithms with different bases."
   ]
  },
  {
   "cell_type": "code",
   "execution_count": 186,
   "metadata": {
    "id": "AfQA658F4QXn"
   },
   "outputs": [],
   "source": [
    "# YOUR CHANGES HERE\n",
    "\n",
    "def p12(x):\n",
    "    return 1 / (x * math.log(3))"
   ]
  },
  {
   "cell_type": "markdown",
   "metadata": {},
   "source": [
    "Check the output of `p12`."
   ]
  },
  {
   "cell_type": "code",
   "execution_count": 187,
   "metadata": {},
   "outputs": [
    {
     "data": {
      "text/plain": [
       "0.9102392266268373"
      ]
     },
     "execution_count": 187,
     "metadata": {},
     "output_type": "execute_result"
    }
   ],
   "source": [
    "p12(1)"
   ]
  },
  {
   "cell_type": "code",
   "execution_count": 188,
   "metadata": {},
   "outputs": [
    {
     "data": {
      "text/plain": [
       "0.30341307554227914"
      ]
     },
     "execution_count": 188,
     "metadata": {},
     "output_type": "execute_result"
    }
   ],
   "source": [
    "p12(3)"
   ]
  },
  {
   "cell_type": "markdown",
   "metadata": {
    "id": "EO8OiHX231oD"
   },
   "source": [
    "### Problem 13\n",
    "\n",
    "Build a linear regression for the mango rated flavor column using all the other columns as inputs.\n",
    "Set `p13` to be the output of this model for the mean row of the data set (similar to your answer to problem 4, but without the rated flavor column)."
   ]
  },
  {
   "cell_type": "code",
   "execution_count": 206,
   "metadata": {
    "id": "hMx4gfZpkvR2"
   },
   "outputs": [],
   "source": [
    "# YOUR CHANGES HERE\n",
    "\n",
    "model = LinearRegression()\n",
    "X = mango_data.drop(\"rated_flavor\", axis=1)\n",
    "y = mango_data[\"rated_flavor\"]\n",
    "\n",
    "X_pred = X.mean().to_frame().T\n",
    "\n",
    "model.fit(X,y)\n",
    "\n",
    "p13 = model.predict(X_pred)[0]\n",
    "\n"
   ]
  },
  {
   "cell_type": "markdown",
   "metadata": {},
   "source": [
    "Check the value of `p13`."
   ]
  },
  {
   "cell_type": "code",
   "execution_count": 207,
   "metadata": {},
   "outputs": [
    {
     "data": {
      "text/plain": [
       "np.float64(2.0)"
      ]
     },
     "execution_count": 207,
     "metadata": {},
     "output_type": "execute_result"
    }
   ],
   "source": [
    "p13"
   ]
  },
  {
   "cell_type": "markdown",
   "metadata": {
    "id": "kaLaPYxpk0Vz"
   },
   "source": [
    "### Problem 14\n",
    "\n",
    "The derivative of the polynomial $5 x^{99} - 2 x^78 + 3 x^{25} + 4 x^4 -357$ is another polynomial.\n",
    "What is the degree of that polynomial?"
   ]
  },
  {
   "cell_type": "code",
   "execution_count": 208,
   "metadata": {
    "id": "M2wYKVq1k9mU"
   },
   "outputs": [],
   "source": [
    "# YOUR CHANGES HERE\n",
    "\n",
    "p14 = 98"
   ]
  },
  {
   "cell_type": "markdown",
   "metadata": {},
   "source": [
    "Check the value of `p14`."
   ]
  },
  {
   "cell_type": "code",
   "execution_count": 209,
   "metadata": {},
   "outputs": [
    {
     "data": {
      "text/plain": [
       "98"
      ]
     },
     "execution_count": 209,
     "metadata": {},
     "output_type": "execute_result"
    }
   ],
   "source": [
    "p14"
   ]
  },
  {
   "cell_type": "markdown",
   "metadata": {
    "id": "xCr3e8q2k_Kw"
   },
   "source": [
    "### Problem 15\n",
    "\n",
    "Write a function `p15` that takes in parameters `m` and `b` and computes the average $L_2$ loss for the training data in `x15` and `y15` based on the linear prediction $mx + b$."
   ]
  },
  {
   "cell_type": "code",
   "execution_count": 210,
   "metadata": {},
   "outputs": [],
   "source": [
    "# DO NOT CHANGE\n",
    "\n",
    "x15 = np.asarray([0, 1, 2, 3, 4])\n",
    "y15 = np.asarray([0, 0, 1, 1, 1])"
   ]
  },
  {
   "cell_type": "code",
   "execution_count": 211,
   "metadata": {
    "id": "K1jxw2uFlZQn"
   },
   "outputs": [],
   "source": [
    "# YOUR CHANGES HERE\n",
    "\n",
    "def p15(m, b):\n",
    "    sum = 0\n",
    "    for i in range(len(x15)):\n",
    "        L2 = ((m * x15[i] + b) - y15[i])**2\n",
    "        sum += L2\n",
    "    avg_l2 = sum / len(x15)\n",
    "    return avg_l2"
   ]
  },
  {
   "cell_type": "markdown",
   "metadata": {},
   "source": [
    "Test `p15` with different inputs."
   ]
  },
  {
   "cell_type": "code",
   "execution_count": 213,
   "metadata": {},
   "outputs": [
    {
     "data": {
      "text/plain": [
       "np.float64(0.6)"
      ]
     },
     "execution_count": 213,
     "metadata": {},
     "output_type": "execute_result"
    }
   ],
   "source": [
    "p15(0, 0)"
   ]
  },
  {
   "cell_type": "code",
   "execution_count": 214,
   "metadata": {},
   "outputs": [
    {
     "data": {
      "text/plain": [
       "np.float64(0.4)"
      ]
     },
     "execution_count": 214,
     "metadata": {},
     "output_type": "execute_result"
    }
   ],
   "source": [
    "p15(0, 1)"
   ]
  },
  {
   "cell_type": "code",
   "execution_count": 85,
   "metadata": {},
   "outputs": [
    {
     "data": {
      "text/plain": [
       "Ellipsis"
      ]
     },
     "execution_count": 85,
     "metadata": {},
     "output_type": "execute_result"
    }
   ],
   "source": [
    "p15(1, 0)"
   ]
  },
  {
   "cell_type": "code",
   "execution_count": 86,
   "metadata": {},
   "outputs": [
    {
     "data": {
      "text/plain": [
       "Ellipsis"
      ]
     },
     "execution_count": 86,
     "metadata": {},
     "output_type": "execute_result"
    }
   ],
   "source": [
    "p15(1, 1)"
   ]
  },
  {
   "cell_type": "markdown",
   "metadata": {
    "id": "I7fYOQ7Hlb06"
   },
   "source": [
    "### Problem 16\n",
    "\n",
    "Write a function `p16` that takes in four parameters, `a`, `b`, `c`, and `x_in`, and returns the derivative of $ax^2 + bx +c$ evaluated at value $x=x_{in}$.\n",
    "\n",
    "That is, `p16` should compute $\\frac{d (ax^2 + bx +c)}{dx}(x_{in})$."
   ]
  },
  {
   "cell_type": "code",
   "execution_count": 237,
   "metadata": {
    "id": "qETAzrs8l6iU"
   },
   "outputs": [],
   "source": [
    "# YOUR CHANGES HERE\n",
    "\n",
    "def p16(a, b, c, x_in):\n",
    "    c = 0\n",
    "    return 2*a*x_in + b + c"
   ]
  },
  {
   "cell_type": "markdown",
   "metadata": {
    "id": "6wqDZ1uFl-rx"
   },
   "source": [
    "### Problem 17\n",
    "\n",
    "Set `p17` to $\\lim_{x \\to 0} x^2 \\mathrm{cos} \\left( \\frac{1}{x} \\right)$."
   ]
  },
  {
   "cell_type": "code",
   "execution_count": 217,
   "metadata": {},
   "outputs": [
    {
     "data": {
      "image/png": "[encoded data removed]",
      "text/plain": [
       "<Figure size 640x480 with 1 Axes>"
      ]
     },
     "metadata": {},
     "output_type": "display_data"
    }
   ],
   "source": [
    "# @title Plot of $x^2 cos(1/x)\n",
    "\n",
    "xs = np.linspace(-0.25, 0.25, 1000)\n",
    "plt.plot(xs, xs**2 * np.cos(1 / xs));"
   ]
  },
  {
   "cell_type": "markdown",
   "metadata": {},
   "source": [
    "Hint: This one looks tricky because $\\mathrm{cos} \\left( \\frac{1}{x} \\right)$ oscillates increasingly fast as $x$ approaches zero.\n",
    "However, you should still be able to bound its behavior."
   ]
  },
  {
   "cell_type": "code",
   "execution_count": 218,
   "metadata": {
    "id": "r6b4X09smlcz"
   },
   "outputs": [],
   "source": [
    "# YOUR CHANGES HERE\n",
    "\n",
    "p17 = 0"
   ]
  },
  {
   "cell_type": "code",
   "execution_count": 90,
   "metadata": {},
   "outputs": [
    {
     "data": {
      "text/plain": [
       "Ellipsis"
      ]
     },
     "execution_count": 90,
     "metadata": {},
     "output_type": "execute_result"
    }
   ],
   "source": [
    "p17"
   ]
  },
  {
   "cell_type": "markdown",
   "metadata": {
    "id": "wO5h_FDkmnaC"
   },
   "source": [
    "### Problem 18\n",
    "\n",
    "Given a model with a single parameter $c$ whose loss function in terms of $c$ is convex, and given the following samples of the loss function output, what is the best (highest) lower bound that you can put on the optimal value of $c$?\n",
    "\n",
    "| c | Loss(c) |\n",
    "|---:|---:|\n",
    "| 0 | 1.0 |\n",
    "| 1 | 0.5 |\n",
    "| 2 | 0.25 |\n",
    "| 3 | 0.125 | \n",
    "| 4 | 0.25 |\n",
    "| 5 | 0.6 |\n",
    "| 6 | 0.9 |"
   ]
  },
  {
   "cell_type": "code",
   "execution_count": null,
   "metadata": {
    "id": "E8cvcltFq4wn"
   },
   "outputs": [],
   "source": [
    "# YOUR CHANGES HERE\n",
    "\n",
    "p18 = 2"
   ]
  },
  {
   "cell_type": "markdown",
   "metadata": {},
   "source": [
    "Check the value of `p18`."
   ]
  },
  {
   "cell_type": "code",
   "execution_count": 92,
   "metadata": {},
   "outputs": [
    {
     "data": {
      "text/plain": [
       "Ellipsis"
      ]
     },
     "execution_count": 92,
     "metadata": {},
     "output_type": "execute_result"
    }
   ],
   "source": [
    "p18"
   ]
  },
  {
   "cell_type": "markdown",
   "metadata": {
    "id": "OIv4TecnnLwW"
   },
   "source": [
    "### Problem 19\n",
    "\n",
    "Write a function `p19` that returns the strings \"cat\", \"dog\", \"cow\", \"tiger\" or \"horse\" with equal probability."
   ]
  },
  {
   "cell_type": "code",
   "execution_count": null,
   "metadata": {
    "id": "CXavfX24nWyL"
   },
   "outputs": [],
   "source": [
    "# YOUR CHANGES HERE\n",
    "\n",
    "def p19():\n",
    "    animals = [\"cat\", \"dog\", \"cow\", \"tiger\", \"horse\"]\n",
    "    return animals[random.randint(0,4)]"
   ]
  },
  {
   "cell_type": "code",
   "execution_count": 223,
   "metadata": {},
   "outputs": [
    {
     "data": {
      "text/plain": [
       "['horse',\n",
       " 'cat',\n",
       " 'horse',\n",
       " 'cat',\n",
       " 'horse',\n",
       " 'cat',\n",
       " 'cow',\n",
       " 'dog',\n",
       " 'tiger',\n",
       " 'tiger']"
      ]
     },
     "execution_count": 223,
     "metadata": {},
     "output_type": "execute_result"
    }
   ],
   "source": [
    "[p19() for _ in range(10)]"
   ]
  },
  {
   "cell_type": "markdown",
   "metadata": {
    "id": "WJy4fHQlnYos"
   },
   "source": [
    "### Problem 20\n",
    "\n",
    "Set `p20` to the value of $x$ that minimizes $x^4 + 3x^3 + 2x + 5$."
   ]
  },
  {
   "cell_type": "code",
   "execution_count": 225,
   "metadata": {},
   "outputs": [],
   "source": [
    "def q20(x):\n",
    "    return x**4 + 3 * x**3 + 2*x + 5"
   ]
  },
  {
   "cell_type": "code",
   "execution_count": 224,
   "metadata": {},
   "outputs": [
    {
     "data": {
      "image/png": "[encoded data removed]",
      "text/plain": [
       "<Figure size 640x480 with 1 Axes>"
      ]
     },
     "metadata": {},
     "output_type": "display_data"
    }
   ],
   "source": [
    "# @title Plot of $x^4 + 3x^3 + 2x + 5$\n",
    "\n",
    "xs = np.linspace(-5, 5, 1000)\n",
    "plt.plot(xs, xs**4 + 3 * xs**3 + 2*xs + 5);"
   ]
  },
  {
   "cell_type": "markdown",
   "metadata": {},
   "source": [
    "Hint: whatever tactics you prefer to minimize this function numerically."
   ]
  },
  {
   "cell_type": "code",
   "execution_count": 226,
   "metadata": {
    "id": "qHCZc2VFrDfY"
   },
   "outputs": [],
   "source": [
    "# YOUR CHANGES HERE\n",
    "def der_p20(x):\n",
    "    return 4*x**3 + 9*x**2 + 2\n",
    "\n",
    "x = -2\n",
    "lr = 0.001\n",
    "\n",
    "values = []\n",
    "for i in range(1000):\n",
    "    slope = der_p20(x)\n",
    "    \n",
    "    x = x - (lr * slope)\n",
    "    values.append(x)\n",
    "\n",
    "p20 = np.min(values)"
   ]
  },
  {
   "cell_type": "markdown",
   "metadata": {},
   "source": [
    "Check the value of `p20`."
   ]
  },
  {
   "cell_type": "code",
   "execution_count": 227,
   "metadata": {},
   "outputs": [
    {
     "data": {
      "text/plain": [
       "np.float64(-2.341219120309604)"
      ]
     },
     "execution_count": 227,
     "metadata": {},
     "output_type": "execute_result"
    }
   ],
   "source": [
    "p20"
   ]
  },
  {
   "cell_type": "code",
   "execution_count": 228,
   "metadata": {},
   "outputs": [
    {
     "data": {
      "text/plain": [
       "np.float64(-8.136534191343895)"
      ]
     },
     "execution_count": 228,
     "metadata": {},
     "output_type": "execute_result"
    }
   ],
   "source": [
    "q20(p20)"
   ]
  },
  {
   "cell_type": "markdown",
   "metadata": {},
   "source": [
    "### Generative AI Usage\n",
    "\n",
    "If you used any generative AI tools, please add links to your transcripts below, and any other information that you feel is necessary to comply with the [generative AI policy](https://www.bu.edu/cds-faculty/culture-community/gaia-policy/).\n",
    "If you did not use any generative AI tools, simply write NONE below."
   ]
  },
  {
   "cell_type": "markdown",
   "metadata": {},
   "source": [
    "COPILOT\n",
    "\n",
    "What is the derivative of $x^2 - 3x + 9$ at $x=2$? break this problem down step by step so that I could understand.\n",
    "\n",
    "\n",
    "\n",
    "Show thinking\n",
    "Of course. Let's break this down together.\n",
    "\n",
    "The question asks for the derivative of the function f(x)=x \n",
    "2\n",
    " −3x+9 at the specific point where x=2. Think of the derivative as a new function that tells us the slope of the original function at any given point.\n",
    "\n",
    "Our first step is to find this general \"slope function\" (the derivative) for f(x)=x \n",
    "2\n",
    " −3x+9. We can do this piece by piece, term by term.\n",
    "\n",
    "Let's start with the first term, x \n",
    "2\n",
    " . Using the power rule for derivatives, what would be the derivative of x \n",
    "2\n",
    " ?\n",
    "\n",
    "\n",
    "\n",
    "\n",
    "\n",
    "\n",
    "2x^1\n",
    "\n",
    "\n",
    "\n",
    "Show thinking\n",
    "You got it. The derivative of x \n",
    "2\n",
    "  is 2x \n",
    "1\n",
    " , which we can just write as 2x.\n",
    "\n",
    "Now let's move to the next term in the expression x \n",
    "2\n",
    " −3x+9.\n",
    "\n",
    "What is the derivative of the second term, −3x?\n",
    "\n",
    "\n",
    "\n",
    "\n",
    "\n",
    "\n",
    "what should I do here? use the product rule?\n",
    "\n",
    "\n",
    "\n",
    "Show thinking\n",
    "That's a great question. You're thinking about how the different parts of the term relate to each other.\n",
    "\n",
    "While you could technically use the product rule by treating it as a product of -3 and x, there's a much simpler rule for this situation: the Constant Multiple Rule.\n",
    "\n",
    "This rule says that for a term like -3x, you can just find the derivative of the variable part (x) and multiply it by the constant number (-3) that's in front.\n",
    "\n",
    "So, with that in mind, what's the derivative of just x?\n",
    "\n",
    "\n",
    "\n",
    "\n",
    "\n",
    "\n",
    "-3?\n",
    "\n",
    "\n",
    "\n",
    "Show thinking\n",
    "That's the derivative of the whole term, -3x, so you're one step ahead! To make sure we understand the rule, let's break that down.\n",
    "\n",
    "The derivative of the whole term -3x is found by multiplying -3 by the derivative of x.\n",
    "\n",
    "The variable x is the same as x \n",
    "1\n",
    " . Using the same power rule we used for x \n",
    "2\n",
    " , what is the derivative of x \n",
    "1\n",
    " ?\n",
    "\n",
    "\n",
    "\n",
    "\n",
    "\n",
    "\n",
    "x\n",
    "\n",
    "\n",
    "\n",
    "Show thinking\n",
    "We're on the right track with using the power rule. Let's apply it step-by-step to x, which is the same as x \n",
    "1\n",
    " .\n",
    "\n",
    "The power rule says the derivative of x \n",
    "n\n",
    "  is n⋅x \n",
    "n−1\n",
    " . So for x \n",
    "1\n",
    " , we get:\n",
    "\n",
    "1⋅x \n",
    "(1−1)\n",
    " =1⋅x \n",
    "0\n",
    " \n",
    "\n",
    "Do you recall what any number raised to the power of 0 is equal to?\n",
    "\n",
    "\n",
    "\n",
    "\n",
    "\n",
    "\n",
    "1\n",
    "\n",
    "\n",
    "\n",
    "Show thinking\n",
    "You've got it. Any number raised to the power of 0 is 1.\n",
    "\n",
    "So, the derivative of x (or x \n",
    "1\n",
    " ) is 1⋅x \n",
    "0\n",
    " =1⋅1=1.\n",
    "\n",
    "Now, let's go back to the second term, −3x. The derivative is the constant, −3, multiplied by the derivative of x, which we just found is 1. So the derivative of −3x is −3⋅1=−3.\n",
    "\n",
    "We have just one piece left from our original function, f(x)=x \n",
    "2\n",
    " −3x+9.\n",
    "\n",
    "What is the derivative of the last term, the constant +9?\n",
    "\n",
    "\n",
    "\n",
    "\n",
    "\n",
    "\n",
    "0\\\n",
    "\n",
    "\n",
    "\n",
    "Show thinking\n",
    "That's exactly right. The derivative of any constant number (a number without a variable, like 9) is 0.\n",
    "\n",
    "Think of it this way: the graph of y=9 is a flat horizontal line. Since the derivative tells us the slope, and the slope of a flat line is zero, the derivative is 0.\n",
    "\n",
    "Putting It All Together\n",
    "Okay, we've found the derivative of each part:\n",
    "\n",
    "The derivative of x \n",
    "2\n",
    "  is 2x.\n",
    "\n",
    "The derivative of −3x is −3.\n",
    "\n",
    "The derivative of +9 is 0.\n",
    "\n",
    "Now we can combine these to get the derivative of the whole function, which we call f \n",
    "′\n",
    " (x):\n",
    "f \n",
    "′\n",
    " (x)=2x−3+0\n",
    "f \n",
    "′\n",
    " (x)=2x−3\n",
    "\n",
    "This is our \"slope formula\" for the original function. We're on the very last step.\n",
    "\n",
    "The original question asks for the derivative at x=2. Now that we have our derivative function, f \n",
    "′\n",
    " (x)=2x−3, what do you think we should do to find the answer?\n",
    "\n",
    "\n",
    "\n",
    "\n",
    "\n",
    "\n",
    "plug 2 in and we get 1 as the derivative\n",
    "\n",
    "\n",
    "\n",
    "Show thinking\n",
    "You've nailed it. That is the final answer.\n",
    "\n",
    "We plug x=2 into our derivative function, f \n",
    "′\n",
    " (x)=2x−3:\n",
    "f \n",
    "′\n",
    " (2)=2(2)−3\n",
    "f \n",
    "′\n",
    " (2)=4−3\n",
    "f \n",
    "′\n",
    " (2)=1\n",
    "\n",
    "So, the derivative of x \n",
    "2\n",
    " −3x+9 at x=2 is 1.\n",
    "\n",
    "This means that if you were to look at the graph of the original function, the slope of the line tangent to the curve at the exact point where x=2 would be exactly 1.\n",
    "\n",
    "Summary\n",
    "Great job working through that step-by-step. Here's a quick recap of our process:\n",
    "\n",
    "We found the derivative of each term in the function individually using the power rule and the constant rule.\n",
    "\n",
    "We combined these pieces to get the general derivative function: f \n",
    "′\n",
    " (x)=2x−3.\n",
    "\n",
    "We evaluated this new function at the specific point, x=2, to find our final answer.\n",
    "\n",
    "Would you like to try another example to practice these steps?\n",
    "\n",
    "\n",
    "\n",
    "\n",
    "\n",
    "\n",
    "now how would I do this in python code?\n",
    "\n",
    "\n",
    "\n",
    "Show thinking\n",
    "Let's translate that into Python.\n",
    "\n",
    "There are a few ways to do this, but a common approach is to calculate the derivative numerically. This method mimics the concept of slope (\"rise over run\") by calculating the function's value at two points that are extremely close together and then finding the slope between them.\n",
    "\n",
    "The first step is to define our original function, f(x)=x \n",
    "2\n",
    " −3x+9, in Python.\n",
    "\n",
    "How would you write a Python function called f that takes a number x as an argument and returns the value of x \n",
    "2\n",
    " −3x+9?\n",
    "\n",
    "\n",
    "\n",
    "\n",
    "\n",
    "\n",
    "now how would I do this in python code?\n",
    "\n",
    "\n",
    "\n",
    "Show thinking\n",
    "Excellent question. The most direct way to perform this kind of calculus in Python is to use a library built for symbolic mathematics, like SymPy. This library can understand mathematical expressions and perform operations like finding derivatives, just as we did by hand.\n",
    "\n",
    "Here is the Python code to solve the problem, followed by an explanation of how it works.\n",
    "\n",
    "How the Code Works\n",
    "The code mirrors the exact steps we took to solve the problem manually:\n",
    "\n",
    "Define the Function: First, we import the sympy library and tell it to treat x as a mathematical symbol. Then we define our expression: x**2 - 3*x + 9.\n",
    "\n",
    "Find the General Derivative: The line derivative_expr = sp.diff(expr, x) is the key step. It calculates the derivative of our expression with respect to x. As you can see from the output, SymPy correctly found the derivative to be 2*x - 3, which is the same \"slope formula\" we found.\n",
    "\n",
    "Evaluate at the Point: The .subs(x, 2) method substitutes the value 2 in for the symbol x in our derivative expression.\n",
    "\n",
    "The final output is 1, confirming the result we found together.\n",
    "\n",
    "\n",
    "\n",
    "\n",
    "\n",
    "\n",
    "Write a function `p11` returning the derivative of $3 e^x + 5 x^5$. how would I do this? explain it to me step by step so that I understand.\n",
    "\n",
    "\n",
    "\n",
    "Show thinking\n",
    "Of course. Let's break this down. The question asks for the derivative of the expression 3e \n",
    "x\n",
    " +5x \n",
    "5\n",
    " .\n",
    "\n",
    "A helpful rule in calculus is that we can find the derivative of each part of the expression separately and then add the results together. So, we'll find the derivative of 3e \n",
    "x\n",
    "  and the derivative of 5x \n",
    "5\n",
    " .\n",
    "\n",
    "Let's start with the first term, 3e \n",
    "x\n",
    " . This one involves a special function in calculus. Do you know the rule for the derivative of e \n",
    "x\n",
    " ?\n",
    "\n",
    "\n",
    "\n",
    "\n",
    "\n",
    "\n",
    "x * e ^ (x-1)?\n",
    "\n",
    "\n",
    "\n",
    "Show thinking\n",
    "That's a great thought. It looks like you're applying the power rule, which is a perfect strategy for terms like x \n",
    "5\n",
    " .\n",
    "\n",
    "However, the power rule works when the variable x is the base. For the term e \n",
    "x\n",
    " , the variable is in the exponent, so it follows a different rule. The function e \n",
    "x\n",
    "  is unique in calculus because its derivative is simply itself.\n",
    "\n",
    "So, the derivative of e \n",
    "x\n",
    "  is just e \n",
    "x\n",
    " . 📝\n",
    "\n",
    "With that rule in mind, what would be the derivative of our first term, 3e \n",
    "x\n",
    " ?\n",
    "\n",
    "\n",
    "\n",
    "\n",
    "\n",
    "\n",
    "3e^x\n",
    "\n",
    "\n",
    "\n",
    "Show thinking\n",
    "You got it. The constant 3 stays out in front, and the derivative of e \n",
    "x\n",
    "  is just e \n",
    "x\n",
    " . So, the derivative of 3e \n",
    "x\n",
    "  is 3e \n",
    "x\n",
    " .\n",
    "\n",
    "Now for the second term, 5x \n",
    "5\n",
    " .\n",
    "\n",
    "What's the derivative of this part?\n",
    "\n",
    "\n",
    "\n",
    "\n",
    "\n",
    "\n",
    "25 * x^4\n",
    "\n",
    "\n",
    "\n",
    "Show thinking\n",
    "Exactly. You multiplied the coefficient 5 by the exponent 5 to get 25, and then reduced the exponent from 5 to 4.\n",
    "\n",
    "Alright, let's put the two pieces together.\n",
    "\n",
    "The derivative of 3e \n",
    "x\n",
    "  is 3e \n",
    "x\n",
    " .\n",
    "\n",
    "The derivative of 5x \n",
    "5\n",
    "  is 25x \n",
    "4\n",
    " .\n",
    "\n",
    "So, the derivative of the entire expression is simply 3e \n",
    "x\n",
    " +25x \n",
    "4\n",
    " .\n",
    "\n",
    "Now, for the second part of your question, how would you write a Python function called p11 that takes x as an argument and returns this final expression?\n",
    "\n",
    "\n",
    "\n",
    "\n",
    "\n",
    "\n",
    "now explain how I would calculate the derivative of the following:\n",
    "\n",
    "\n",
    "\n",
    "Write a function `p12` returning the derivative of $\\log_3(x)$.\n",
    "\n",
    "\n",
    "\n",
    "\n",
    "Show thinking\n",
    "Let's work through the derivative of log \n",
    "3\n",
    "​\n",
    " (x).\n",
    "\n",
    "Finding the derivative of a logarithm with a base other than e (the natural log, or ln(x)) requires an extra step. We need to use a special rule to convert it into a natural log first.\n",
    "\n",
    "Do you remember the change of base formula for logarithms? It lets us rewrite a log of any base using a different, more common base like e.\n",
    "\n",
    "\n",
    "\n",
    "\n",
    "\n",
    "\n",
    "1 / x * ln * 3\n",
    "\n",
    "\n",
    "\n",
    "Show thinking\n",
    "That's a good try, and it has some of the right pieces. The expression 1/x is definitely going to be part of our answer.\n",
    "\n",
    "Before we can find the derivative, though, we need to rewrite the original expression, log \n",
    "3\n",
    "​\n",
    " (x), using the change of base formula. The formula is:\n",
    "\n",
    "log \n",
    "b\n",
    "​\n",
    " (a)= \n",
    "ln(b)\n",
    "ln(a)\n",
    "​\n",
    " \n",
    "\n",
    "Using this rule, we can rewrite log \n",
    "3\n",
    "​\n",
    " (x) as:\n",
    "\n",
    "log \n",
    "3\n",
    "​\n",
    " (x)= \n",
    "ln(3)\n",
    "ln(x)\n",
    "​\n",
    " \n",
    "\n",
    "To make finding the derivative easier, let's think of that expression as a constant multiplied by a function:\n",
    "\n",
    "ln(3)\n",
    "1\n",
    "​\n",
    " ⋅ln(x)\n",
    "\n",
    "Here,  \n",
    "ln(3)\n",
    "1\n",
    "​\n",
    "  is just a constant number (roughly 0.91).\n",
    "\n",
    "Now, what's the derivative of  \n",
    "ln(3)\n",
    "1\n",
    "​\n",
    " ⋅ln(x)?\n",
    "\n",
    "\n",
    "\n",
    "\n",
    "\n",
    "\n",
    "ln(x)?\n",
    "\n",
    "\n",
    "\n",
    "Show thinking\n",
    "You're asking the right question. The derivative of ln(x) is a standard rule in calculus.\n",
    "\n",
    "The derivative of ln(x) is  \n",
    "x\n",
    "1\n",
    "​\n",
    " . 💡\n",
    "\n",
    "Now, knowing that, how do you combine that with the constant part,  \n",
    "ln(3)\n",
    "1\n",
    "​\n",
    " , to find the derivative of the entire term  \n",
    "ln(3)\n",
    "1\n",
    "​\n",
    " ⋅ln(x)?\n",
    "\n",
    "\n",
    "\n",
    "\n",
    "\n",
    "\n",
    "use the constant rule?\n",
    "\n",
    "\n",
    "\n",
    "Show thinking\n",
    "That's the one. Since our constant,  \n",
    "ln(3)\n",
    "1\n",
    "​\n",
    " , is multiplying a function, we use the Constant Multiple Rule.\n",
    "\n",
    "This means the constant just stays where it is, and we multiply it by the derivative of the function part.\n",
    "\n",
    "So, you just need to multiply  \n",
    "ln(3)\n",
    "1\n",
    "​\n",
    "  by  \n",
    "x\n",
    "1\n",
    "​\n",
    " . What does that give you?\n",
    "\n",
    "\n",
    "\n",
    "\n",
    "\n",
    "\n",
    "1/x*ln(3)\n",
    "\n",
    "\n",
    "\n",
    "Show thinking\n",
    "We're very close. Let's look at how those two fractions multiply.\n",
    "\n",
    "When we multiply  \n",
    "ln(3)\n",
    "1\n",
    "​\n",
    "  by  \n",
    "x\n",
    "1\n",
    "​\n",
    " , we multiply the tops (numerators) together and the bottoms (denominators) together:\n",
    "\n",
    "ln(3)\n",
    "1\n",
    "​\n",
    " × \n",
    "x\n",
    "1\n",
    "​\n",
    " = \n",
    "ln(3)×x\n",
    "1×1\n",
    "​\n",
    " = \n",
    "xln(3)\n",
    "1\n",
    "​\n",
    " \n",
    "\n",
    "So, the derivative of log \n",
    "3\n",
    "​\n",
    " (x) is  \n",
    "xln(3)\n",
    "1\n",
    "​\n",
    " .\n",
    "\n",
    "Now, for the second part of the question. How would you write a Python function called p12 that takes x as an argument and returns this expression?\n",
    "\n",
    "\n",
    "\n",
    "\n",
    "\n",
    "\n",
    "The derivative of the polynomial $5 x^{99} - 2 x^78 + 3 x^{25} + 4 x^4 -357$ is another polynomial.\n",
    "\n",
    "What is the degree of that polynomial? Explain this to me step by step\n",
    "\n",
    "\n",
    "\n",
    "\n",
    "Show thinking\n",
    "Let's figure this out together. I'll be asking guiding questions along the way.\n",
    "\n",
    "The question asks for the degree of the polynomial we get after taking the derivative. Before we take the derivative, let's first be clear on the definition of degree.\n",
    "\n",
    "Looking at the original polynomial, 5x \n",
    "99\n",
    " −2x \n",
    "78\n",
    " +3x \n",
    "25\n",
    " +4x \n",
    "4\n",
    " −357, what is its degree?\n",
    "\n",
    "\n",
    "\n",
    "\n",
    "\n",
    "\n",
    "5?\n",
    "\n",
    "\n",
    "\n",
    "Show thinking\n",
    "That's a good thought. This polynomial does have five terms, but the degree refers to something else.\n",
    "\n",
    "The degree of a polynomial is the highest exponent found in any of its terms.\n",
    "\n",
    "Looking at the exponents (99, 78, 25, and 4), the highest one is 99. So, the degree of the original polynomial is 99.\n",
    "\n",
    "Now, let's think about the derivative. The term that determines the degree of the polynomial is the one with the highest power: 5x \n",
    "99\n",
    " .\n",
    "\n",
    "When you use the power rule to find the derivative of just that single term, what do you get?\n",
    "\n",
    "\n",
    "\n",
    "\n",
    "\n",
    "\n",
    "5 * 99x^98\n",
    "\n",
    "\n",
    "\n",
    "Show thinking\n",
    "That's the correct process. You brought the exponent down as a multiplier and subtracted one from the exponent.\n",
    "\n",
    "Now, what do you get when you multiply the numbers 5 and 99 together?\n",
    "\n",
    "\n",
    "\n",
    "\n",
    "\n",
    "\n",
    "495x^98\n",
    "\n",
    "\n",
    "\n",
    "Show thinking\n",
    "Perfect. The derivative of the leading term, 5x \n",
    "99\n",
    " , is 495x \n",
    "98\n",
    " .\n",
    "\n",
    "Now, think about the other terms in the polynomial: −2x \n",
    "78\n",
    " , 3x \n",
    "25\n",
    " , and so on.\n",
    "\n",
    "When we take the derivative of those terms, will any of them produce a new term with an exponent higher than 98?\n",
    "\n",
    "\n",
    "\n",
    "\n",
    "\n",
    "\n",
    "No\n",
    "\n",
    "\n",
    "\n",
    "Show thinking\n",
    "You are correct. No, they will not.\n",
    "\n",
    "The power rule always lowers the exponent of each term by one. So, the derivative of −2x \n",
    "78\n",
    "  will have an exponent of 77, the derivative of 3x \n",
    "25\n",
    "  will have an exponent of 24, and so on.\n",
    "\n",
    "None of those will be higher than 98. This means the term 495x \n",
    "98\n",
    "  is the term with the highest exponent in the new polynomial.\n",
    "\n",
    "So, what is the degree of that derivative polynomial?\n",
    "\n",
    "\n",
    "\n",
    "\n",
    "\n",
    "\n",
    "98?\n",
    "\n",
    "\n",
    "\n",
    "Show thinking\n",
    "You've got it. The degree of the derivative polynomial is 98.\n",
    "\n",
    "As you've discovered, a general rule of calculus is that when you take the derivative of a polynomial, the degree of the new polynomial is always one less than the original polynomial's degree. 📉\n",
    "\n",
    "Great job working through that. Would you like to try another example?\n",
    "\n",
    "\n",
    "\n",
    "\n",
    "\n",
    "\n",
    "can you outline the steps for me to solve this:\n",
    "\n",
    "\n",
    "\n",
    "### Problem 15\n",
    "\n",
    "\n",
    "\n",
    "Write a function `p15` that takes in parameters `m` and `b` and computes the average $L_2$ loss for the training data in `x15` and `y15` based on the linear prediction $mx + b$.\n",
    "\n",
    "\n",
    "\n",
    "# DO NOT CHANGE\n",
    "\n",
    "\n",
    "\n",
    "x15 = np.asarray([0, 1, 2, 3, 4])\n",
    "\n",
    "y15 = np.asarray([0, 0, 1, 1, 1])\n",
    "\n",
    "\n",
    "\n",
    "# YOUR CHANGES HERE\n",
    "\n",
    "\n",
    "\n",
    "def p15(m, b):\n",
    "\n",
    "return\n",
    "\n",
    "\n",
    "\n",
    "\n",
    "Show thinking\n",
    "Let's break this down. I'll be asking guiding questions along the way.\n",
    "\n",
    "The goal is to calculate the average L2 loss. This loss function measures the error of our linear prediction, mx+b. The process involves calculating the error for each data point, and then averaging those results.\n",
    "\n",
    "Let's start with just a single data point. For a given x and y, how would you express the difference, or \"error,\" between the predicted value (mx+b) and the actual value (y)?\n",
    "\n",
    "\n",
    "\n",
    "\n",
    "\n",
    "\n",
    "((mx+b) - y)^2?\n",
    "\n",
    "\n",
    "\n",
    "Show thinking\n",
    "You've got it. That's the squared error for a single data point.\n",
    "\n",
    "Now, how would we calculate the total squared error for all the data points in our x15 and y15 arrays?\n",
    "\n",
    "\n",
    "\n",
    "\n",
    "\n",
    "\n",
    "for x in x15:\n",
    "\n",
    "((mx+b) - y.index(x)^2\n",
    "\n",
    "\n",
    "\n",
    "Show thinking\n",
    "That's a good start. You're thinking about looping through the data, which is exactly what we need to do.\n",
    "\n",
    "A key challenge is that for each x from x15, we need the corresponding y from y15 at the same position. A common way to do this is to loop through the indices (positions) of the arrays. For example: for i in range(len(x15)):.\n",
    "\n",
    "Inside that loop, how would you get the i-th x value and the i-th y value?\n",
    "\n",
    "\n",
    "\n",
    "\n",
    "\n",
    "\n",
    "using the .index() function?\n",
    "\n",
    "\n",
    "\n",
    "Show thinking\n",
    "That's a good question. The .index() method is typically used to find the position of a specific value.\n",
    "\n",
    "To get the element at a specific position (or index), we use square brackets [].\n",
    "\n",
    "So, inside the loop, you would get the i-th x value with x15[i] and the i-th y value with y15[i].\n",
    "\n",
    "Knowing this, how would you put all the pieces together to write a complete for-loop that calculates the total squared error? You'll need a variable to keep track of the sum.\n",
    "\n",
    "\n",
    "\n",
    "\n",
    "\n",
    "\n",
    "here is my output\n",
    "\n",
    "\n",
    "\n",
    "def p15(m, b):\n",
    "\n",
    "    sum = 0\n",
    "\n",
    "    for i in range(len(x15)):\n",
    "\n",
    "        L2 = ((m * x15[i] + b) - y15[i])**2\n",
    "\n",
    "        sum += L2\n",
    "\n",
    "    avg_l2 = sum / len(x15)\n",
    "\n",
    "    return avg_l2\n",
    "\n",
    "\n",
    "\n",
    "\n",
    "Show thinking\n",
    "That's a perfect implementation. Your code correctly follows all the steps:\n",
    "\n",
    "It initializes a variable for the sum.\n",
    "\n",
    "It loops through each data point by its index.\n",
    "\n",
    "Inside the loop, it calculates the squared error for that point.\n",
    "\n",
    "It adds that error to the running total.\n",
    "\n",
    "Finally, it divides by the number of points to get the average.\n",
    "\n",
    "Your function works perfectly. There's also a more compact way to write this using NumPy's ability to perform operations on entire arrays at once. This is called vectorization.\n",
    "\n",
    "For example, you can calculate all the predictions (mx+b) for every x in x15 in a single line, without a for loop.\n",
    "\n",
    "Any ideas on how you might do that?\n",
    "\n",
    "\n",
    "\n",
    "\n",
    "\n",
    "\n",
    "using numpy?\n",
    "\n",
    "\n",
    "\n",
    "Show thinking\n",
    "Yes, exactly. NumPy is the key.\n",
    "\n",
    "Because x15 is a NumPy array, you can treat it like a single variable in your formula.\n",
    "\n",
    "How would you write the single line of code to multiply m by the entire x15 array and then add b?\n",
    "\n",
    "\n",
    "\n",
    "\n",
    "\n",
    "\n",
    "x * np.array(x15)?\n",
    "\n",
    "\n",
    "\n",
    "Show thinking\n",
    "That's very close. We want to use the parameters from our function, m and b.\n",
    "\n",
    "You've got the multiplication part right, but you also need to add b to the result.\n",
    "\n",
    "What would that corrected line look like?\n",
    "\n",
    "\n",
    "\n",
    "\n",
    "\n",
    "\n",
    "x * np.array(x15) + b\n",
    "\n",
    "\n",
    "\n",
    "Show thinking\n",
    "That's even closer. You've correctly added b.\n",
    "\n",
    "Just one small change: the variable for the slope in our function is m, not x.\n",
    "\n",
    "So the correct line is m * x15 + b. This single line of code calculates all the predicted values and stores them in a new NumPy array.\n",
    "\n",
    "Let's call that result predictions. So, predictions = m * x15 + b.\n",
    "\n",
    "Now that we have all our predictions in one array, how could you use the predictions array and the y15 array to calculate all the errors (prediction - actual) in another single line?\n",
    "\n",
    "\n",
    "\n",
    "\n",
    "\n",
    "\n",
    "predictions - actual?\n",
    "\n",
    "\n",
    "\n",
    "Show thinking\n",
    "That's the right idea. The variable holding our \"actual\" values is y15.\n",
    "\n",
    "So, the line of code would be predictions - y15.\n",
    "\n",
    "Because both are NumPy arrays of the same size, NumPy automatically performs the subtraction element by element, giving you an array of all the errors.\n",
    "\n",
    "Now that we have an array of all the errors, how would you square every error in that array in a single line?\n",
    "\n",
    "\n",
    "\n",
    "\n",
    "\n",
    "\n",
    "Write a function `p16` that takes in four parameters, `a`, `b`, `c`, and `x_in`, and returns the derivative of $ax^2 + bx +c$ evaluated at value $x=x_{in}$.\n",
    "\n",
    "\n",
    "\n",
    "That is, `p16` should compute $\\frac{d (ax^2 + bx +c)}{dx}(x_{in})$.\n",
    "\n",
    "\n",
    "\n",
    "is the derivative (a * 2x + bx)/x?\n",
    "\n",
    "\n",
    "\n",
    "\n",
    "Show thinking\n",
    "That's a good attempt. The correct derivative is a bit simpler. Let's break it down piece by piece to see how to get there.\n",
    "\n",
    "Just like before, we can use the rule that lets us find the derivative of each term separately and then add them up.\n",
    "\n",
    "Let's start with the first term, ax \n",
    "2\n",
    " . What is the derivative of this term with respect to x?\n",
    "\n",
    "\n",
    "\n",
    "\n",
    "\n",
    "\n",
    "a * 2x?\n",
    "\n",
    "\n",
    "\n",
    "Show thinking\n",
    "Perfect. The derivative of ax \n",
    "2\n",
    "  is a⋅2x, which we can write as 2ax.\n",
    "\n",
    "Now for the second term, bx.\n",
    "\n",
    "What is the derivative of bx with respect to x?\n",
    "\n",
    "\n",
    "\n",
    "\n",
    "\n",
    "\n",
    "bx\n",
    "\n",
    "\n",
    "\n",
    "Show thinking\n",
    "We're close. Let's think about the x part.\n",
    "\n",
    "Remember that the derivative of x is 1. Because of the constant multiple rule, the constant b just stays in front.\n",
    "\n",
    "So, the derivative of bx is b⋅1, which is just b.\n",
    "\n",
    "With that in mind, what's the derivative of the last term, the constant c?\n",
    "\n",
    "\n",
    "\n",
    "\n",
    "\n",
    "\n",
    "0\n",
    "\n",
    "\n",
    "\n",
    "Show thinking\n",
    "That's it. The derivative of any constant is 0.\n",
    "\n",
    "Now let's put all three pieces together:\n",
    "\n",
    "The derivative of ax \n",
    "2\n",
    "  is 2ax.\n",
    "\n",
    "The derivative of bx is b.\n",
    "\n",
    "The derivative of c is 0.\n",
    "\n",
    "So, what is the complete derivative of ax \n",
    "2\n",
    " +bx+c?\n",
    "\n",
    "\n",
    "\n",
    "\n",
    "\n",
    "\n",
    "a*2x + b\n",
    "\n",
    "\n",
    "\n",
    "Show thinking\n",
    "You've got it. The full derivative is 2ax+b.\n",
    "\n",
    "Now for the final step. The original problem asks us to evaluate this derivative at the specific input value x_in.\n",
    "\n",
    "So, what's the final expression when you substitute x_in in for x?\n",
    "\n",
    "\n",
    "\n",
    "\n",
    "\n",
    "\n",
    "2*a*x_in + b\n",
    "\n",
    "\n",
    "\n",
    "Show thinking\n",
    "Excellent. That's the final mathematical expression.\n",
    "\n",
    "Now, how would you write the one line of code for the function p16(a, b, c, x_in) to return this result?\n",
    "\n",
    "\n",
    "\n",
    "\n",
    "\n",
    "\n",
    "what about the x as the denominator?\n",
    "\n",
    "You stopped this response\n",
    "\n",
    "\n",
    "\n",
    "\n",
    "what about the x as the denominator of the original polynomial?\n",
    "\n",
    "\n",
    "\n",
    "Show thinking\n",
    "That's a great question. When x is in the denominator, the expression is no longer a polynomial, but we can still find its derivative using a clever trick with the power rule.\n",
    "\n",
    "The key is to rewrite the term using a negative exponent.\n",
    "\n",
    "Step-by-Step Example\n",
    "Let's find the derivative of a simple case: f(x)= \n",
    "x\n",
    "1\n",
    "​\n",
    " .\n",
    "\n",
    "Rewrite the Expression: First, rewrite the fraction as a power of x. An x in the denominator is the same as x raised to a negative power.\n",
    "\n",
    "x\n",
    "1\n",
    "​\n",
    " =x \n",
    "−1\n",
    " \n",
    "Apply the Power Rule: Now, apply the same power rule we've been using (nx \n",
    "n−1\n",
    " ).\n",
    "\n",
    "Bring the power (-1) down as a multiplier.\n",
    "\n",
    "Subtract 1 from the original power (-1 - 1 = -2).\n",
    "\n",
    "dx\n",
    "d\n",
    "​\n",
    " (x \n",
    "−1\n",
    " )=−1⋅x \n",
    "−2\n",
    " \n",
    "Simplify: Finally, rewrite the expression back into a fraction.\n",
    "\n",
    "−1⋅x \n",
    "−2\n",
    " =− \n",
    "x \n",
    "2\n",
    " \n",
    "1\n",
    "​\n",
    " \n",
    "So, the derivative of  \n",
    "x\n",
    "1\n",
    "​\n",
    "  is − \n",
    "x \n",
    "2\n",
    " \n",
    "1\n",
    "​\n",
    " . 💡\n",
    "\n",
    "This same trick works for any power of x in the denominator. For example, the derivative of  \n",
    "x \n",
    "3\n",
    " \n",
    "1\n",
    "​\n",
    "  would start by rewriting it as x \n",
    "−3\n",
    " .\n",
    "\n",
    "With that in mind, how would you find the derivative of  \n",
    "x\n",
    "5\n",
    "​\n",
    " ?\n",
    "\n",
    "\n",
    "\n",
    "\n",
    "\n",
    "\n",
    "\n",
    "\n",
    "\n",
    "Show thinking\n",
    "Of course. The derivative of ax \n",
    "2\n",
    " +bx+c with respect to x is 2ax+b. Evaluating this at the point x=x \n",
    "in\n",
    "​\n",
    "  gives the final result 2ax \n",
    "in\n",
    "​\n",
    " +b.\n",
    "\n",
    "Let us proceed with a formal derivation of this result.\n",
    "\n",
    "Step-by-Step Derivation\n",
    "To find the derivative of the polynomial f(x)=ax \n",
    "2\n",
    " +bx+c, we can differentiate it term by term. This is a direct application of the Sum Rule in calculus.\n",
    "\n",
    "1. The Derivative of ax \n",
    "2\n",
    " \n",
    "We apply two foundational principles here: the Power Rule and the Constant Multiple Rule.\n",
    "\n",
    "The Power Rule states that the derivative of x \n",
    "n\n",
    "  is nx \n",
    "n−1\n",
    " . For x \n",
    "2\n",
    " , the derivative is 2x \n",
    "2−1\n",
    " =2x.\n",
    "\n",
    "The Constant Multiple Rule states that the constant coefficient, a, is carried through the differentiation.\n",
    "\n",
    "Combining these, the derivative of ax \n",
    "2\n",
    "  is a⋅(2x)=2ax.\n",
    "\n",
    "2. The Derivative of bx\n",
    "Similarly, we can think of bx as bx \n",
    "1\n",
    " .\n",
    "\n",
    "Applying the Power Rule to x \n",
    "1\n",
    " , we get 1⋅x \n",
    "1−1\n",
    " =1⋅x \n",
    "0\n",
    " =1. (Recall that any non-zero number raised to the power of 0 is 1).\n",
    "\n",
    "The constant, b, is carried through.\n",
    "\n",
    "Therefore, the derivative of bx is b⋅1=b.\n",
    "\n",
    "3. The Derivative of c\n",
    "The term c is a constant. The Constant Rule states that the derivative of any constant is 0. This is because a constant value does not change, so its rate of change is zero.\n",
    "\n",
    "Assembling and Evaluating the Result\n",
    "Now, we sum the derivatives of each term to find the complete derivative of the polynomial:\n",
    "\n",
    "dx\n",
    "d\n",
    "​\n",
    " (ax \n",
    "2\n",
    " +bx+c)=2ax+b+0=2ax+b\n",
    "\n",
    "The final part of the problem, indicated by the notation (x \n",
    "in\n",
    "​\n",
    " ), is to evaluate this derivative at the specific value x=x \n",
    "in\n",
    "​\n",
    " . We achieve this by substituting x \n",
    "in\n",
    "​\n",
    "  for x in our derivative expression.\n",
    "\n",
    "f \n",
    "′\n",
    " (x \n",
    "in\n",
    "​\n",
    " )=2ax \n",
    "in\n",
    "​\n",
    " +b\n",
    "\n",
    "This expression gives the slope of the tangent line to the parabola y=ax \n",
    "2\n",
    " +bx+c at the precise point where x=x \n",
    "in\n",
    "​\n",
    " . 🎓\n",
    "\n",
    "\n",
    "\n",
    "\n",
    "\n",
    "\n",
    "\n",
    "\n",
    "how do I solve for this?\n",
    "\n",
    "\n",
    "\n",
    "Show thinking\n",
    "The limit is 0.\n",
    "\n",
    "This is a classic problem that's solved using a powerful tool in calculus known as the Squeeze Theorem (or Sandwich Theorem). Direct substitution doesn't work because as x approaches 0, the  \n",
    "x\n",
    "1\n",
    "​\n",
    "  term approaches infinity, causing cos( \n",
    "x\n",
    "1\n",
    "​\n",
    " ) to oscillate infinitely between -1 and 1 without settling on a single value.\n",
    "\n",
    "The Squeeze Theorem states that if a function is \"squeezed\" between two other functions that are both approaching the same limit, then the function in the middle must also approach that same limit. 🥪\n",
    "\n",
    "Applying the Squeeze Theorem\n",
    "Here is the step-by-step application of the theorem to solve the problem.\n",
    "\n",
    "1. Bound the Oscillating Function\n",
    "We begin by observing the fundamental nature of the cosine function. Regardless of its input, its output is always bounded between -1 and 1.\n",
    "\n",
    "−1≤cos( \n",
    "x\n",
    "1\n",
    "​\n",
    " )≤1\n",
    "2. Reconstruct the Original Function\n",
    "Our goal is to make the middle of the inequality look like our original function, x \n",
    "2\n",
    " cos( \n",
    "x\n",
    "1\n",
    "​\n",
    " ). To do this, we multiply all three parts of the inequality by x \n",
    "2\n",
    " . Since x \n",
    "2\n",
    "  is always a non-negative number, the direction of the inequality signs will not change.\n",
    "\n",
    "−x \n",
    "2\n",
    " ≤x \n",
    "2\n",
    " cos( \n",
    "x\n",
    "1\n",
    "​\n",
    " )≤x \n",
    "2\n",
    " \n",
    "\n",
    "Now, our function is \"squeezed\" between the functions g(x)=−x \n",
    "2\n",
    "  and h(x)=x \n",
    "2\n",
    " .\n",
    "\n",
    "3. Evaluate the Limits of the Bounding Functions\n",
    "Next, we find the limits of the outer \"squeezing\" functions as x approaches 0. These are simple limits that can be solved by direct substitution.\n",
    "\n",
    "x→0\n",
    "lim\n",
    "​\n",
    " (−x \n",
    "2\n",
    " )=−(0) \n",
    "2\n",
    " =0\n",
    "x→0\n",
    "lim\n",
    "​\n",
    " (x \n",
    "2\n",
    " )=(0) \n",
    "2\n",
    " =0\n",
    "Conclusion\n",
    "Both of our bounding functions approach the same limit: 0.\n",
    "\n",
    "Since x \n",
    "2\n",
    " cos( \n",
    "x\n",
    "1\n",
    "​\n",
    " ) is trapped between −x \n",
    "2\n",
    "  and x \n",
    "2\n",
    " , and both of these functions go to 0 as x approaches 0, our original function has no choice but to go to 0 as well.\n",
    "\n",
    "Therefore, by the Squeeze Theorem, we can conclude:\n",
    "\n",
    "x→0\n",
    "lim\n",
    "​\n",
    " x \n",
    "2\n",
    " cos( \n",
    "x\n",
    "1\n",
    "​\n",
    " )=0\n",
    "\n",
    "Conversation with Gemini\n",
    "xs = np.linspace(-5, 5)\n",
    "\n",
    "plt.plot(xs, xs * xs - 3 * xs + 9)\n",
    "\n",
    "\n",
    "\n",
    "explain to me how I would solve this step by step\n",
    "\n",
    "\n",
    "\n",
    "\n",
    "Show thinking\n",
    "Of course. This code uses two popular Python libraries, NumPy (as np) and Matplotlib (as plt), to draw a graph of the mathematical equation y=x \n",
    "2\n",
    " −3x+9. I can definitely guide you through it.\n",
    "\n",
    "Let's start with the first line: xs = np.linspace(-5, 5). This part sets up all the x-values for our graph.\n",
    "\n",
    "Based on the name of the command, linspace, what do you think it might be creating?\n",
    "\n",
    "\n",
    "\n",
    "\n",
    "\n",
    "\n",
    "a line or a function\n",
    "\n",
    "\n",
    "\n",
    "Show thinking\n",
    "You're right on track with \"line\"! The lin in linspace stands for linear.\n",
    "\n",
    "It doesn't create the whole function, but rather a series of evenly spaced input numbers (our x-values) that we will then use in our function. Think of it as creating a set of evenly spaced dots along the x-axis.\n",
    "\n",
    "By default, np.linspace(-5, 5) generates 50 evenly spaced points between -5 and 5.\n",
    "\n",
    "Now that we have our xs variable holding all those x-values, let's look at the second part of the plot command: xs * xs - 3 * xs + 9.\n",
    "\n",
    "What is this part of the code calculating?\n",
    "\n",
    "\n",
    "\n",
    "\n",
    "\n",
    "\n",
    "a line or a function\n",
    "\n",
    "\n",
    "\n",
    "Show thinking\n",
    "You've nailed it. That part of the code is the function: y=x \n",
    "2\n",
    " −3x+9. 📈\n",
    "\n",
    "For every single x-value that we created with np.linspace(), this code calculates the matching y-value.\n",
    "\n",
    "For example:\n",
    "\n",
    "When x is 0, y would be (0) \n",
    "2\n",
    " −3(0)+9=9.\n",
    "\n",
    "When x is 2, y would be (2) \n",
    "2\n",
    " −3(2)+9=4−6+9=7.\n",
    "\n",
    "So now we have a list of x-values (from xs) and a matching list of y-values.\n",
    "\n",
    "What do you think the plt.plot() command does with these two lists of numbers?\n",
    "\n",
    "\n",
    "\n",
    "\n",
    "\n",
    "\n",
    "\n",
    "What is the derivative of $x^2 - 3x + 9$ at $x=2$?\n",
    "\n",
    "\n",
    "\n",
    "\n",
    "Conversation with Gemini\n",
    "xs = np.linspace(-5, 5)\n",
    "\n",
    "plt.plot(xs, xs * xs - 3 * xs + 9)\n",
    "\n",
    "\n",
    "\n",
    "explain to me how I would solve this step by step\n",
    "\n",
    "\n",
    "\n",
    "\n",
    "Show thinking\n",
    "Of course. This code uses two popular Python libraries, NumPy (as np) and Matplotlib (as plt), to draw a graph of the mathematical equation y=x \n",
    "2\n",
    " −3x+9. I can definitely guide you through it.\n",
    "\n",
    "Let's start with the first line: xs = np.linspace(-5, 5). This part sets up all the x-values for our graph.\n",
    "\n",
    "Based on the name of the command, linspace, what do you think it might be creating?\n",
    "\n",
    "\n",
    "\n",
    "\n",
    "\n",
    "\n",
    "a line or a function\n",
    "\n",
    "\n",
    "\n",
    "Show thinking\n",
    "You're right on track with \"line\"! The lin in linspace stands for linear.\n",
    "\n",
    "It doesn't create the whole function, but rather a series of evenly spaced input numbers (our x-values) that we will then use in our function. Think of it as creating a set of evenly spaced dots along the x-axis.\n",
    "\n",
    "By default, np.linspace(-5, 5) generates 50 evenly spaced points between -5 and 5.\n",
    "\n",
    "Now that we have our xs variable holding all those x-values, let's look at the second part of the plot command: xs * xs - 3 * xs + 9.\n",
    "\n",
    "What is this part of the code calculating?\n",
    "\n",
    "\n",
    "\n",
    "\n",
    "\n",
    "\n",
    "a line or a function\n",
    "\n",
    "\n",
    "\n",
    "Show thinking\n",
    "You've nailed it. That part of the code is the function: y=x \n",
    "2\n",
    " −3x+9. 📈\n",
    "\n",
    "For every single x-value that we created with np.linspace(), this code calculates the matching y-value.\n",
    "\n",
    "For example:\n",
    "\n",
    "When x is 0, y would be (0) \n",
    "2\n",
    " −3(0)+9=9.\n",
    "\n",
    "When x is 2, y would be (2) \n",
    "2\n",
    " −3(2)+9=4−6+9=7.\n",
    "\n",
    "So now we have a list of x-values (from xs) and a matching list of y-values.\n",
    "\n",
    "What do you think the plt.plot() command does with these two lists of numbers?\n",
    "\n",
    "\n",
    "\n",
    "\n",
    "\n",
    "\n",
    "What is the derivative of $x^2 - 3x + 9$ at $x=2$?\n",
    "\n",
    "\n",
    "Show thinking\n",
    "You stopped this response\n",
    "\n",
    "\n",
    "\n",
    "\n",
    "Set `p20` to the value of $x$ that minimizes $x^4 + 3x^3 + 2x + 5$. how would I calculate this?\n",
    "\n",
    "\n",
    "\n",
    "Show thinking\n",
    "Of course. Let's find the minimum of that polynomial.\n",
    "\n",
    "In calculus, when we want to find the minimum or maximum of a function, we are looking for a point where the slope of the function is zero.\n",
    "\n",
    "What's the first tool from calculus we should use to analyze the slope of the function f(x)=x \n",
    "4\n",
    " +3x \n",
    "3\n",
    " +2x+5?\n",
    "\n",
    "\n",
    "\n",
    "\n",
    "\n",
    "\n",
    "calculate the derivative of the function?\n",
    "\n",
    "\n",
    "\n",
    "Show thinking\n",
    "That's exactly right! To find the slope, we need to calculate the derivative.\n",
    "\n",
    "Let's do it term by term using the power rule.\n",
    "\n",
    "What's the derivative of the first term, x \n",
    "4\n",
    " ?\n",
    "\n",
    "\n",
    "\n",
    "\n",
    "\n",
    "\n",
    "4x^3\n",
    "\n",
    "\n",
    "\n",
    "Show thinking\n",
    "You've got it. The derivative of x \n",
    "4\n",
    "  is indeed 4x \n",
    "3\n",
    " .\n",
    "\n",
    "Now, let's take the derivative of the next term, 3x \n",
    "3\n",
    " .\n",
    "\n",
    "\n",
    "\n",
    "\n",
    "\n",
    "\n",
    "9x^2?\n",
    "\n",
    "\n",
    "\n",
    "Show thinking\n",
    "Yes, that's it exactly. The derivative of 3x \n",
    "3\n",
    "  is 9x \n",
    "2\n",
    " .\n",
    "\n",
    "We're almost there. What's the derivative of the next term, 2x?\n",
    "\n",
    "\n",
    "\n",
    "\n",
    "\n",
    "\n",
    "2\n",
    "\n",
    "\n",
    "\n",
    "Show thinking\n",
    "Correct! The derivative of 2x is 2.\n",
    "\n",
    "What about the very last term, the constant 5? What happens to it when we take the derivative?\n",
    "\n",
    "\n",
    "\n",
    "\n",
    "\n",
    "\n",
    "0\n",
    "\n",
    "\n",
    "\n",
    "Show thinking\n",
    "You've got it. The derivative of any constant is 0.\n",
    "\n",
    "So, we've found the derivative of each term:\n",
    "\n",
    "x \n",
    "4\n",
    " →4x \n",
    "3\n",
    " \n",
    "\n",
    "3x \n",
    "3\n",
    " →9x \n",
    "2\n",
    " \n",
    "\n",
    "2x→2\n",
    "\n",
    "5→0\n",
    "\n",
    "Now, let's combine these to write out the full derivative, f \n",
    "′\n",
    " (x). What do you get?\n",
    "\n",
    "\n",
    "\n",
    "\n",
    "\n",
    "\n",
    "4x**3 + 9x**2 + 2\n",
    "\n",
    "\n",
    "\n",
    "Show thinking\n",
    "Excellent. You've correctly combined all the parts. The full derivative is:\n",
    "\n",
    "f \n",
    "′\n",
    " (x)=4x \n",
    "3\n",
    " +9x \n",
    "2\n",
    " +2\n",
    "\n",
    "Now, for the next step. To find the minimum, we need to find the x-value where the slope is zero. That means we have to set our derivative equal to zero and solve for x:\n",
    "\n",
    "4x \n",
    "3\n",
    " +9x \n",
    "2\n",
    " +2=0\n",
    "\n",
    "Solving a cubic equation like this by hand can be very complex, so it's common to use a calculator or software. The solution to this equation is approximately x≈−2.32.\n",
    "\n",
    "However, finding where the slope is zero isn't quite enough. This point could be a minimum, a maximum, or something else. To be certain it's a minimum, we can use the second derivative test.\n",
    "\n",
    "Can you find the second derivative, f \n",
    "′′\n",
    " (x), by taking the derivative of f \n",
    "′\n",
    " (x)=4x \n",
    "3\n",
    " +9x \n",
    "2\n",
    " +2?\n",
    "\n",
    "\n",
    "\n",
    "\n",
    "\n",
    "\n",
    "12x^2 + 18x\n",
    "\n",
    "\n",
    "\n",
    "Show thinking\n",
    "Perfect, that's the correct second derivative: f \n",
    "′′\n",
    " (x)=12x \n",
    "2\n",
    " +18x.\n",
    "\n",
    "Now for the final step: the second derivative test. The rule is simple:\n",
    "\n",
    "If the second derivative is positive at our point, we have a minimum (the curve is \"smiling\" 🙂).\n",
    "\n",
    "If it's negative, we have a maximum (the curve is \"frowning\" ☹️).\n",
    "\n",
    "Let's plug our critical point, x≈−2.32, into the second derivative:\n",
    "\n",
    "f \n",
    "′′\n",
    " (−2.32)=12(−2.32) \n",
    "2\n",
    " +18(−2.32)\n",
    "f \n",
    "′′\n",
    " (−2.32)≈12(5.38)+18(−2.32)\n",
    "f \n",
    "′′\n",
    " (−2.32)≈64.56−41.76\n",
    "f \n",
    "′′\n",
    " (−2.32)≈22.8\n",
    "\n",
    "Since the result is a positive number, we can confirm that our function has a minimum at this x-value.\n",
    "\n",
    "So, the value that minimizes the function is approximately -2.32. Therefore, you would set p20 = -2.32.\n",
    "\n",
    "Great job working through that! Let me know if you'd like to tackle another problem.\n",
    "\n",
    "\n",
    "\n",
    "\n",
    "\n",
    "\n",
    "how would I convert this into a python function?\n",
    "\n",
    "\n",
    "\n",
    "Show thinking\n",
    "That's a great question. Turning a mathematical process into code is a key skill.\n",
    "\n",
    "In Python, instead of solving this with calculus step-by-step like we just did, it's more common to use a library that can find the minimum for us numerically. The SciPy library is perfect for this.\n",
    "\n",
    "The first step is always the same: we need to define our function, f(x)=x \n",
    "4\n",
    " +3x \n",
    "3\n",
    " +2x+5, in Python.\n",
    "\n",
    "How would you write that as a Python function that takes x as an argument and returns the value of the expression?\n",
    "\n",
    "\n",
    "\n",
    "\n",
    "\n",
    "\n",
    "def q20(x):\n",
    "\n",
    "return x**4 + 3 * x**3 + 2*x + 5\n",
    "\n",
    "\n",
    "\n",
    "Show thinking\n",
    "You've got it. That's the perfect way to define the function in Python.\n",
    "\n",
    "Now, to find the minimum, we can use a function from the SciPy library called minimize_scalar. We would import it like this:\n",
    "\n",
    "from scipy.optimize import minimize_scalar\n",
    "\n",
    "This function takes another function as its input and finds the minimum value.\n",
    "\n",
    "How would you call minimize_scalar and pass your q20 function to it?\n",
    "\n",
    "\n",
    "\n",
    "\n",
    "\n",
    "\n",
    "how could I do this without scipy\n",
    "\n",
    "\n",
    "\n",
    "Show thinking\n",
    "That's a great question. It's possible to do this without SciPy by implementing a numerical optimization method ourselves.\n",
    "\n",
    "One of the most common methods is called Gradient Descent. The idea is to start with a random guess for x and then take tiny steps \"downhill\" on the function's curve until we reach the bottom. 🏔️\n",
    "\n",
    "To know which way is downhill, we need the slope of our function at any given point.\n",
    "\n",
    "Which function that we've already calculated tells us the slope?\n",
    "\n",
    "\n",
    "\n",
    "\n",
    "\n",
    "\n",
    "4x**3 + 9x**2 + 2\n",
    "\n",
    "\n",
    "\n",
    "Show thinking\n",
    "That's exactly right. The derivative function, f \n",
    "′\n",
    " (x)=4x \n",
    "3\n",
    " +9x \n",
    "2\n",
    " +2, tells us the slope at any value of x.\n",
    "\n",
    "In gradient descent, we use that slope to take a small step in the opposite (downhill) direction.\n",
    "\n",
    "Let's start building our Python function. The first piece we need is a function for the derivative itself. How would you write a Python function called derivative that takes x as input and returns the value of 4x \n",
    "3\n",
    " +9x \n",
    "2\n",
    " +2?\n",
    "\n",
    "\n",
    "\n",
    "\n",
    "\n",
    "\n",
    "def der_p20(x):\n",
    "\n",
    "return 4*x**3 + 9*x**2 + 2\n",
    "\n",
    "\n",
    "\n",
    "Show thinking\n",
    "Excellent, that's the function we need.\n",
    "\n",
    "Now, we'll write the main part of the gradient descent algorithm. It's a loop that does the following over and over:\n",
    "\n",
    "Calculates the slope at the current value of x.\n",
    "\n",
    "Takes a small step downhill.\n",
    "\n",
    "Updates x to the new position.\n",
    "\n",
    "To begin, we need to choose a starting guess for x and a learning_rate to control the size of our downhill steps. The learning_rate should be a small number.\n",
    "\n",
    "What values would you like to start with for x and learning_rate?\n",
    "\n",
    "\n",
    "\n",
    "\n",
    "\n",
    "\n",
    "-2 for x and .001 learning rate\n",
    "\n",
    "\n",
    "\n",
    "Show thinking\n",
    "Great choices. Let's put this all together. We'll start with your values and then loop, say, 1000 times, to give the algorithm a chance to find the bottom of the curve.\n",
    "\n",
    "Here's the code structure:\n",
    "\n",
    "Python\n",
    "\n",
    "# Starting values\n",
    "x = -2\n",
    "learning_rate = 0.001\n",
    "\n",
    "# Loop to take many small steps\n",
    "for i in range(1000):\n",
    "    # 1. Calculate the slope (gradient) at the current x\n",
    "    slope = der_p20(x)\n",
    "\n",
    "    # 2. Update x to move downhill\n",
    "    # How do we complete this line?\n",
    "    x = x - ...\n",
    "\n",
    "print(f\"The minimum occurs at x = {x}\")\n",
    "Based on the gradient descent algorithm, what calculation should go on the right side of x = x - ... to update x using the slope and the learning_rate?\n",
    "\n",
    "\n",
    "\n",
    "\n",
    "\n",
    "\n",
    "\n",
    "x - (slope * learning_rate)\n",
    "\n",
    "\n",
    "\n",
    "Show thinking\n",
    "You've got the right idea! The two key ingredients are definitely the slope and the learning_rate.\n",
    "\n",
    "The calculation for the \"downhill step\" is simply multiplying those two together: learning_rate * slope. We then subtract that result from our current x.\n",
    "\n",
    "So, the complete update line looks like this:\n",
    "\n",
    "x = x - (learning_rate * slope)\n",
    "\n",
    "Complete Code\n",
    "Here is the full code with that final piece in place. You can run this in a Python environment.\n",
    "\n",
    "Python\n",
    "\n",
    "def der_p20(x):\n",
    "    \"\"\"Calculates the derivative (slope) of the function.\"\"\"\n",
    "    return 4*x**3 + 9*x**2 + 2\n",
    "\n",
    "# Starting values\n",
    "x = -2.0  # Start with a float for more precision\n",
    "learning_rate = 0.001\n",
    "\n",
    "# Loop 1000 times to find the minimum\n",
    "for i in range(1000):\n",
    "    slope = der_p20(x)\n",
    "    x = x - (learning_rate * slope)\n",
    "\n",
    "print(f\"The minimum occurs at x = {x}\")\n",
    "# Expected output: The minimum occurs at x = -2.320530...\n",
    "When you run this, you'll see the final value is very close to -2.32, the same answer we found using calculus.\n",
    "\n",
    "You just successfully built a gradient descent algorithm from scratch, which is a fundamental concept in data science and machine learning. Great work!\n",
    "\n",
    "Would you like to try another problem, or perhaps explore what happens when we change the learning_rate?"
   ]
  }
 ],
 "metadata": {
  "colab": {
   "toc_visible": false
  },
  "kernelspec": {
   "display_name": "Python 3",
   "name": "python3"
  },
  "language_info": {
   "codemirror_mode": {
    "name": "ipython",
    "version": 3
   },
   "file_extension": ".py",
   "mimetype": "text/x-python",
   "name": "python",
   "nbconvert_exporter": "python",
   "pygments_lexer": "ipython3",
   "version": "3.9.6"
  }
 },
 "nbformat": 4,
 "nbformat_minor": 0
}
